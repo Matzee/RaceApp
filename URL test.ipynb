{
 "cells": [
  {
   "cell_type": "code",
   "execution_count": 38,
   "metadata": {},
   "outputs": [],
   "source": [
    "#!/usr/bin/python\n",
    "import urllib2\n",
    "import urlparse\n",
    "from bs4 import BeautifulSoup\n",
    "\n",
    "def getAllUrl(url):\n",
    "    try:\n",
    "        page = urllib2.urlopen( url ).read()\n",
    "    except:\n",
    "        return []\n",
    "    urlList = []\n",
    "    try:\n",
    "        soup = BeautifulSoup(page)\n",
    "        soup.prettify()\n",
    "        for anchor in soup.findAll('a', href=True):\n",
    "            if not 'http://' in anchor['href']:\n",
    "                if urlparse.urljoin(url, anchor['href']) not in urlList:\n",
    "                    urlList.append(urlparse.urljoin(url, anchor['href']))\n",
    "            else:\n",
    "                if anchor['href'] not in urlList:\n",
    "                    urlList.append(anchor['href'])\n",
    "\n",
    "        length = len(urlList)\n",
    "\n",
    "        return urlList\n",
    "    except urllib2.HTTPError, e:\n",
    "        print e\n",
    "\n",
    "def listAllUrl(urls):\n",
    "    for x in urls:\n",
    "        print x\n",
    "        urls.remove(x)\n",
    "        urls_tmp = getAllUrl(x)\n",
    "        for y in urls_tmp:\n",
    "            urls.append(y)\n",
    "            \n",
    "url=\"http://www.sncf.com\"\n",
    "urls=getAllUrl(url)"
   ]
  },
  {
   "cell_type": "code",
   "execution_count": 72,
   "metadata": {},
   "outputs": [],
   "source": [
    "import urllib\n",
    "from bs4 import BeautifulSoup\n",
    "\n",
    "\n",
    "import codecs\n",
    "# ...\n",
    "\n",
    "\n",
    "def get_text(url):\n",
    "    text=None\n",
    "    if \"#\" not in url:\n",
    "        \n",
    "        html = urllib.urlopen(url).read()\n",
    "        soup = BeautifulSoup(html.decode('utf-8'))\n",
    "\n",
    "        # kill all script and style elements\n",
    "        for script in soup([\"script\", \"style\"]):\n",
    "            script.extract()    # rip it out\n",
    "\n",
    "        # get text\n",
    "        text = soup.get_text()\n",
    "\n",
    "        # break into lines and remove leading and trailing space on each\n",
    "        lines = (line.strip() for line in text.splitlines())\n",
    "        # break multi-headlines into a line each\n",
    "        chunks = (phrase.strip() for line in lines for phrase in line.split(\"  \"))\n",
    "        # drop blank lines\n",
    "        text = '\\n'.join(chunk for chunk in chunks if chunk)\n",
    "\n",
    "    return(text)"
   ]
  },
  {
   "cell_type": "code",
   "execution_count": 84,
   "metadata": {},
   "outputs": [
    {
     "ename": "TypeError",
     "evalue": "'NoneType' object has no attribute '__getitem__'",
     "output_type": "error",
     "traceback": [
      "\u001b[0;31m---------------------------------------------------------------------------\u001b[0m",
      "\u001b[0;31mTypeError\u001b[0m                                 Traceback (most recent call last)",
      "\u001b[0;32m<ipython-input-84-6e2233f201ca>\u001b[0m in \u001b[0;36m<module>\u001b[0;34m()\u001b[0m\n\u001b[1;32m     15\u001b[0m \u001b[0;34m\u001b[0m\u001b[0m\n\u001b[1;32m     16\u001b[0m \u001b[0;31m# Print title attribute of a <div> which uses umlauts (e.g. können)\u001b[0m\u001b[0;34m\u001b[0m\u001b[0;34m\u001b[0m\u001b[0m\n\u001b[0;32m---> 17\u001b[0;31m \u001b[0;32mprint\u001b[0m \u001b[0mrepr\u001b[0m\u001b[0;34m(\u001b[0m\u001b[0msoup\u001b[0m\u001b[0;34m.\u001b[0m\u001b[0mfind\u001b[0m\u001b[0;34m(\u001b[0m\u001b[0;34m'div'\u001b[0m\u001b[0;34m,\u001b[0m \u001b[0mid\u001b[0m\u001b[0;34m=\u001b[0m\u001b[0;34m'navbutton_account'\u001b[0m\u001b[0;34m)\u001b[0m\u001b[0;34m[\u001b[0m\u001b[0;34m'title'\u001b[0m\u001b[0;34m]\u001b[0m\u001b[0;34m)\u001b[0m\u001b[0;34m\u001b[0m\u001b[0m\n\u001b[0m",
      "\u001b[0;31mTypeError\u001b[0m: 'NoneType' object has no attribute '__getitem__'"
     ]
    }
   ],
   "source": [
    "import urllib2\n",
    "from bs4 import BeautifulSoup\n",
    "\n",
    "# Fetch URL\n",
    "url = 'http://www.voxnow.de/'\n",
    "request = urllib2.Request(url)\n",
    "request.add_header('Accept-Encoding', 'utf-8')\n",
    "\n",
    "# Response has UTF-8 charset header,\n",
    "# and HTML body which is UTF-8 encoded\n",
    "response = urllib2.urlopen(request)\n",
    "\n",
    "# Parse with BeautifulSoup\n",
    "soup = BeautifulSoup(response.read().decode('utf-8', 'ignore'))\n",
    "\n",
    "# Print title attribute of a <div> which uses umlauts (e.g. können)\n",
    "print repr(soup.find('div', id='navbutton_account')['title'])\n"
   ]
  },
  {
   "cell_type": "code",
   "execution_count": 80,
   "metadata": {},
   "outputs": [
    {
     "data": {
      "text/plain": [
       "u\"Professionnels | SNCF\\nAller au menu principalAller au menu secondaireAller au contenuAller au pied de page\\nImprimer la pagePartager la page\\nVoyageurs\\nEntreprises & collectivit\\xe9s\\nGroupe SNCF\\nfrFran\\xe7aisFr\\nEnglishEn\\nDeutschDe\\nBillets & Info trajetsR\\xe9servationHoraires & Info trafic en temps r\\xe9elInfos gares & Points de venteServices voyageursTous voyageursProfessionnelsAccessibilit\\xe9 handicapGroupesGarantie VoyageSe d\\xe9placerEn r\\xe9gionEn FranceEn EuropeDepuis & vers la gareTarifs & CartesBons plans du momentCartes & Tarifs r\\xe9duitsOffres tarifairesProgrammes de fid\\xe9lit\\xe9Relation clientQuestions & R\\xe9ponsesEspace communaut\\xe9sNos engagements & SAVContacts\\nVoyageurs / Services voyageurs / Professionnels\\xa0\\xa0Imprimer la pagePartager la page\\nProfessionnels\\nD\\xe9couvrez l\\u2019offre Pro\\nVoyageurs Pros et Entreprises D\\xe9couvrez l\\u2019ensemble de l\\u2019offre Pro\\nProfiter des services Pro\\nBillets Pro 2de & 1re Les billets \\xe0 destination des professionnels\\nAbonnement Fr\\xe9quence 30 Profitez de tous les avantages du tarif Pro avec 30% de r\\xe9duction garantis\\nAbonnement Fr\\xe9quence 50% Profitez de tous les avantages du tarif Pro avec 50% de r\\xe9duction garantis\\nAvantages fid\\xe9lit\\xe9 pro Voyageur professionnel, d\\xe9couvrez tous nos avantages fid\\xe9lit\\xe9\\nGagner du temps\\nGuichets & bornes Gagnez du temps gr\\xe2ce aux guichets et bornes Pro Express\\nAppli & site mobile TGV Pro G\\xe9rez votre voyage professionnel depuis votre mobile\\nTransport & stationnement Facilitez votre voyage professionnel au d\\xe9part comme \\xe0 l'arriv\\xe9e\\nVoyager en toute tranquilit\\xe9\\nSalons Grand Voyageur D\\xe9couvrez un espace en gare alliant confort et services\\nEspace Pro Premi\\xe8re Voyagez dans un espace offrant services et attentions d\\xe9di\\xe9s \\xe0 bord\\nServices Bout en Bout\\nServices Bout en Bout Vous accompagner tout au long de votre voyage professionnel\\nFermer la popin\\nMot de passe oubli\\xe9 ?\\nIndiquez l'adresse \\xe9lectronique utilis\\xe9e lors de la cr\\xe9ation de votre compte. Un courriel vous sera envoy\\xe9 pour d\\xe9finir votre mot de passe.\\nAdresse \\xe9lectronique :\\nAcc\\xe8s rapide :\\nEmploi\\nNewsroom\\nPoints de vente\\nVoyageursCartes de r\\xe9duction SNCFSe d\\xe9placer depuis et vers la gareServices apr\\xe8s-venteQuestions & R\\xe9ponsesConditions g\\xe9n\\xe9rales de transportEntreprises& collectivit\\xe9sOffres aux entreprisesOffres aux collectivit\\xe9sEntreprises ferroviairesFournisseursGroupe SNCFNos m\\xe9tiersUn groupe, 3 Epic, 6 m\\xe9tiersPr\\xe9sence SNCF dans le mondeTransparenceFondation SNCF\\nMentions l\\xe9gales\\nCorrespondant informatique & libert\\xe9s\\nRetour au site Mobile\\nEn poursuivant votre navigation sur ce site, vous acceptez l'utilisation de cookies, que nous utilisons pour comprendre ce que vous souhaitez ici et pour vous proposer des services adapt\\xe9s \\xe0 vos centres d'int\\xe9r\\xeat.\\nEN SAVOIR PLUS\""
      ]
     },
     "execution_count": 80,
     "metadata": {},
     "output_type": "execute_result"
    }
   ],
   "source": [
    "a=get_text(\"http://www.sncf.com/fr/sub-home/50639\")\n",
    "a"
   ]
  },
  {
   "cell_type": "code",
   "execution_count": null,
   "metadata": {
    "scrolled": true
   },
   "outputs": [],
   "source": [
    "total=[]\n",
    "for cnt,url in enumerate(urls):\n",
    "    print(cnt)\n",
    "    total.append(get_text(url))"
   ]
  },
  {
   "cell_type": "code",
   "execution_count": 42,
   "metadata": {
    "scrolled": true
   },
   "outputs": [
    {
     "data": {
      "text/plain": [
       "['http://www.sncf.com#navbar-wrapper',\n",
       " 'http://www.sncf.com#left-menu',\n",
       " 'http://www.sncf.com#content',\n",
       " 'http://www.sncf.com#footer',\n",
       " 'http://www.sncf.com/',\n",
       " 'http://www.sncf.com/fr/entreprises-collectivites',\n",
       " 'http://www.sncf.com/fr/groupe',\n",
       " 'http://www.sncf.com/fr/voyageurs',\n",
       " 'http://www.sncf.com/en/passengers',\n",
       " 'http://www.sncf.com/de/fahrgaste',\n",
       " 'http://www.sncf.com/fr/sub-home/1526',\n",
       " 'http://www.sncf.com/fr/sub-home/1527',\n",
       " 'http://www.sncf.com/fr/sub-home/5660',\n",
       " 'http://www.sncf.com/fr/sub-home/50606',\n",
       " 'http://www.sncf.com/fr/sub-home/50639',\n",
       " 'http://www.sncf.com/fr/sub-home/50653',\n",
       " 'http://www.sncf.com/fr/sub-home/50663',\n",
       " 'http://www.sncf.com/fr/engagements/garantie-voyage',\n",
       " 'http://www.sncf.com/fr/sub-home/50672',\n",
       " 'http://www.sncf.com/fr/sub-home/50673',\n",
       " 'http://www.sncf.com/fr/sub-home/50675',\n",
       " 'http://www.sncf.com/fr/sub-home/50674',\n",
       " 'http://www.sncf.com/fr/promotions-billets-train',\n",
       " 'http://www.sncf.com/fr/sub-home/50709',\n",
       " 'http://www.sncf.com/fr/sub-home/50738',\n",
       " 'http://www.sncf.com/fr/sub-home/50756',\n",
       " 'http://questions.sncf.com/',\n",
       " 'http://www.sncf.com/fr/sub-home/13870',\n",
       " 'http://www.sncf.com/fr/sub-home/50776',\n",
       " 'http://www.sncf.com/fr/sub-home/50768',\n",
       " 'http://www.sncf.com/fr/print/1324',\n",
       " 'http://www.sncf.com/fr/actualite/cinetrain',\n",
       " 'http://www.sncf.com/fr/actualite/ete-promo-premiere',\n",
       " 'http://www.sncf.com/fr/actualite/lancement-tgv-atlantique',\n",
       " 'http://www.sncf.com/fr/actualite/sncf-vous-dit-oui',\n",
       " 'http://www.sncf.com/fr/actualite/campagne-tgv-hollywood',\n",
       " 'http://www.sncf.com/fr',\n",
       " 'http://www.sncf.com/fr/dialogue/reseaux-sociaux',\n",
       " 'http://www.sncf.com/fr/securite-passage-a-niveaux',\n",
       " 'http://www.sncf.com/fr/tgv-live-festivals-musique',\n",
       " 'http://www.sncf.com/fr/actualite/embarquement-tgv',\n",
       " 'http://www.sncf.com/fr/engagements/g30',\n",
       " 'http://www.sncf.com/fr/actualite/sncf-ouicar',\n",
       " 'http://www.sncf.com/fr/tgv-max',\n",
       " 'https://www.emploi.sncf.com/acces/eRecrutement_WebApplication-SNAPSHOT/',\n",
       " 'http://www.sncf.com/fr/presse/a-la-une',\n",
       " 'http://www.sncf.com/fr/services/points-de-vente',\n",
       " 'http://www.sncf.com/fr/offres/cartes-reduction',\n",
       " 'http://www.sncf.com/fr/engagements/conditions-generales-voyageurs',\n",
       " 'http://www.sncf.com/fr/sub-home/1595',\n",
       " 'http://www.sncf.com/fr/sub-home/1601',\n",
       " 'http://www.sncf.com/fr/entreprises-ferroviaires',\n",
       " 'http://www.sncf.com/fr/sub-home/1624',\n",
       " 'http://www.sncf.com/fr/sub-home/2543',\n",
       " 'http://www.sncf.com/fr/portrait-du-groupe/un-groupe-de-service',\n",
       " 'https://www.international.sncf.com',\n",
       " 'http://www.sncf.com/fr/sub-home/56417',\n",
       " 'http://www.sncf.com/fr/rse/fondation-sncf',\n",
       " 'http://www.sncf.com/fr/mentions-legales',\n",
       " 'http://sncf.com/cil/registre/',\n",
       " 'http://m.sncf.com',\n",
       " 'http://www.sncf.com',\n",
       " 'http://www.sncf.com/fr/sncf-cookies']"
      ]
     },
     "execution_count": 42,
     "metadata": {},
     "output_type": "execute_result"
    }
   ],
   "source": [
    "urls"
   ]
  },
  {
   "cell_type": "code",
   "execution_count": 59,
   "metadata": {},
   "outputs": [
    {
     "ename": "UnicodeDecodeError",
     "evalue": "'ascii' codec can't decode byte 0xc3 in position 10: ordinal not in range(128)",
     "output_type": "error",
     "traceback": [
      "\u001b[0;31m---------------------------------------------------------------------------\u001b[0m",
      "\u001b[0;31mUnicodeDecodeError\u001b[0m                        Traceback (most recent call last)",
      "\u001b[0;32m<ipython-input-59-2ffde0fa3cc5>\u001b[0m in \u001b[0;36m<module>\u001b[0;34m()\u001b[0m\n\u001b[1;32m      1\u001b[0m \u001b[0;32mimport\u001b[0m \u001b[0mnltk\u001b[0m\u001b[0;34m\u001b[0m\u001b[0m\n\u001b[0;32m----> 2\u001b[0;31m \u001b[0mtokens\u001b[0m \u001b[0;34m=\u001b[0m \u001b[0mnltk\u001b[0m\u001b[0;34m.\u001b[0m\u001b[0mword_tokenize\u001b[0m\u001b[0;34m(\u001b[0m\u001b[0mtotal\u001b[0m\u001b[0;34m[\u001b[0m\u001b[0;36m4\u001b[0m\u001b[0;34m]\u001b[0m\u001b[0;34m.\u001b[0m\u001b[0mencode\u001b[0m\u001b[0;34m(\u001b[0m\u001b[0;34m'utf-8'\u001b[0m\u001b[0;34m)\u001b[0m\u001b[0;34m)\u001b[0m\u001b[0;34m\u001b[0m\u001b[0m\n\u001b[0m",
      "\u001b[0;32m/Users/matthiaszech/anaconda/lib/python2.7/site-packages/nltk/tokenize/__init__.pyc\u001b[0m in \u001b[0;36mword_tokenize\u001b[0;34m(text, language, preserve_line)\u001b[0m\n\u001b[1;32m    128\u001b[0m     \u001b[0;34m:\u001b[0m\u001b[0mtype\u001b[0m \u001b[0mpreserver_line\u001b[0m\u001b[0;34m:\u001b[0m \u001b[0mbool\u001b[0m\u001b[0;34m\u001b[0m\u001b[0m\n\u001b[1;32m    129\u001b[0m     \"\"\"\n\u001b[0;32m--> 130\u001b[0;31m     \u001b[0msentences\u001b[0m \u001b[0;34m=\u001b[0m \u001b[0;34m[\u001b[0m\u001b[0mtext\u001b[0m\u001b[0;34m]\u001b[0m \u001b[0;32mif\u001b[0m \u001b[0mpreserve_line\u001b[0m \u001b[0;32melse\u001b[0m \u001b[0msent_tokenize\u001b[0m\u001b[0;34m(\u001b[0m\u001b[0mtext\u001b[0m\u001b[0;34m,\u001b[0m \u001b[0mlanguage\u001b[0m\u001b[0;34m)\u001b[0m\u001b[0;34m\u001b[0m\u001b[0m\n\u001b[0m\u001b[1;32m    131\u001b[0m     return [token for sent in sentences\n\u001b[1;32m    132\u001b[0m             for token in _treebank_word_tokenizer.tokenize(sent)]\n",
      "\u001b[0;32m/Users/matthiaszech/anaconda/lib/python2.7/site-packages/nltk/tokenize/__init__.pyc\u001b[0m in \u001b[0;36msent_tokenize\u001b[0;34m(text, language)\u001b[0m\n\u001b[1;32m     95\u001b[0m     \"\"\"\n\u001b[1;32m     96\u001b[0m     \u001b[0mtokenizer\u001b[0m \u001b[0;34m=\u001b[0m \u001b[0mload\u001b[0m\u001b[0;34m(\u001b[0m\u001b[0;34m'tokenizers/punkt/{0}.pickle'\u001b[0m\u001b[0;34m.\u001b[0m\u001b[0mformat\u001b[0m\u001b[0;34m(\u001b[0m\u001b[0mlanguage\u001b[0m\u001b[0;34m)\u001b[0m\u001b[0;34m)\u001b[0m\u001b[0;34m\u001b[0m\u001b[0m\n\u001b[0;32m---> 97\u001b[0;31m     \u001b[0;32mreturn\u001b[0m \u001b[0mtokenizer\u001b[0m\u001b[0;34m.\u001b[0m\u001b[0mtokenize\u001b[0m\u001b[0;34m(\u001b[0m\u001b[0mtext\u001b[0m\u001b[0;34m)\u001b[0m\u001b[0;34m\u001b[0m\u001b[0m\n\u001b[0m\u001b[1;32m     98\u001b[0m \u001b[0;34m\u001b[0m\u001b[0m\n\u001b[1;32m     99\u001b[0m \u001b[0;31m# Standard word tokenizer.\u001b[0m\u001b[0;34m\u001b[0m\u001b[0;34m\u001b[0m\u001b[0m\n",
      "\u001b[0;32m/Users/matthiaszech/anaconda/lib/python2.7/site-packages/nltk/tokenize/punkt.pyc\u001b[0m in \u001b[0;36mtokenize\u001b[0;34m(self, text, realign_boundaries)\u001b[0m\n\u001b[1;32m   1233\u001b[0m         \u001b[0mGiven\u001b[0m \u001b[0ma\u001b[0m \u001b[0mtext\u001b[0m\u001b[0;34m,\u001b[0m \u001b[0mreturns\u001b[0m \u001b[0ma\u001b[0m \u001b[0mlist\u001b[0m \u001b[0mof\u001b[0m \u001b[0mthe\u001b[0m \u001b[0msentences\u001b[0m \u001b[0;32min\u001b[0m \u001b[0mthat\u001b[0m \u001b[0mtext\u001b[0m\u001b[0;34m.\u001b[0m\u001b[0;34m\u001b[0m\u001b[0m\n\u001b[1;32m   1234\u001b[0m         \"\"\"\n\u001b[0;32m-> 1235\u001b[0;31m         \u001b[0;32mreturn\u001b[0m \u001b[0mlist\u001b[0m\u001b[0;34m(\u001b[0m\u001b[0mself\u001b[0m\u001b[0;34m.\u001b[0m\u001b[0msentences_from_text\u001b[0m\u001b[0;34m(\u001b[0m\u001b[0mtext\u001b[0m\u001b[0;34m,\u001b[0m \u001b[0mrealign_boundaries\u001b[0m\u001b[0;34m)\u001b[0m\u001b[0;34m)\u001b[0m\u001b[0;34m\u001b[0m\u001b[0m\n\u001b[0m\u001b[1;32m   1236\u001b[0m \u001b[0;34m\u001b[0m\u001b[0m\n\u001b[1;32m   1237\u001b[0m     \u001b[0;32mdef\u001b[0m \u001b[0mdebug_decisions\u001b[0m\u001b[0;34m(\u001b[0m\u001b[0mself\u001b[0m\u001b[0;34m,\u001b[0m \u001b[0mtext\u001b[0m\u001b[0;34m)\u001b[0m\u001b[0;34m:\u001b[0m\u001b[0;34m\u001b[0m\u001b[0m\n",
      "\u001b[0;32m/Users/matthiaszech/anaconda/lib/python2.7/site-packages/nltk/tokenize/punkt.pyc\u001b[0m in \u001b[0;36msentences_from_text\u001b[0;34m(self, text, realign_boundaries)\u001b[0m\n\u001b[1;32m   1281\u001b[0m         \u001b[0mfollows\u001b[0m \u001b[0mthe\u001b[0m \u001b[0mperiod\u001b[0m\u001b[0;34m.\u001b[0m\u001b[0;34m\u001b[0m\u001b[0m\n\u001b[1;32m   1282\u001b[0m         \"\"\"\n\u001b[0;32m-> 1283\u001b[0;31m         \u001b[0;32mreturn\u001b[0m \u001b[0;34m[\u001b[0m\u001b[0mtext\u001b[0m\u001b[0;34m[\u001b[0m\u001b[0ms\u001b[0m\u001b[0;34m:\u001b[0m\u001b[0me\u001b[0m\u001b[0;34m]\u001b[0m \u001b[0;32mfor\u001b[0m \u001b[0ms\u001b[0m\u001b[0;34m,\u001b[0m \u001b[0me\u001b[0m \u001b[0;32min\u001b[0m \u001b[0mself\u001b[0m\u001b[0;34m.\u001b[0m\u001b[0mspan_tokenize\u001b[0m\u001b[0;34m(\u001b[0m\u001b[0mtext\u001b[0m\u001b[0;34m,\u001b[0m \u001b[0mrealign_boundaries\u001b[0m\u001b[0;34m)\u001b[0m\u001b[0;34m]\u001b[0m\u001b[0;34m\u001b[0m\u001b[0m\n\u001b[0m\u001b[1;32m   1284\u001b[0m \u001b[0;34m\u001b[0m\u001b[0m\n\u001b[1;32m   1285\u001b[0m     \u001b[0;32mdef\u001b[0m \u001b[0m_slices_from_text\u001b[0m\u001b[0;34m(\u001b[0m\u001b[0mself\u001b[0m\u001b[0;34m,\u001b[0m \u001b[0mtext\u001b[0m\u001b[0;34m)\u001b[0m\u001b[0;34m:\u001b[0m\u001b[0;34m\u001b[0m\u001b[0m\n",
      "\u001b[0;32m/Users/matthiaszech/anaconda/lib/python2.7/site-packages/nltk/tokenize/punkt.pyc\u001b[0m in \u001b[0;36mspan_tokenize\u001b[0;34m(self, text, realign_boundaries)\u001b[0m\n\u001b[1;32m   1272\u001b[0m         \u001b[0;32mif\u001b[0m \u001b[0mrealign_boundaries\u001b[0m\u001b[0;34m:\u001b[0m\u001b[0;34m\u001b[0m\u001b[0m\n\u001b[1;32m   1273\u001b[0m             \u001b[0mslices\u001b[0m \u001b[0;34m=\u001b[0m \u001b[0mself\u001b[0m\u001b[0;34m.\u001b[0m\u001b[0m_realign_boundaries\u001b[0m\u001b[0;34m(\u001b[0m\u001b[0mtext\u001b[0m\u001b[0;34m,\u001b[0m \u001b[0mslices\u001b[0m\u001b[0;34m)\u001b[0m\u001b[0;34m\u001b[0m\u001b[0m\n\u001b[0;32m-> 1274\u001b[0;31m         \u001b[0;32mreturn\u001b[0m \u001b[0;34m[\u001b[0m\u001b[0;34m(\u001b[0m\u001b[0msl\u001b[0m\u001b[0;34m.\u001b[0m\u001b[0mstart\u001b[0m\u001b[0;34m,\u001b[0m \u001b[0msl\u001b[0m\u001b[0;34m.\u001b[0m\u001b[0mstop\u001b[0m\u001b[0;34m)\u001b[0m \u001b[0;32mfor\u001b[0m \u001b[0msl\u001b[0m \u001b[0;32min\u001b[0m \u001b[0mslices\u001b[0m\u001b[0;34m]\u001b[0m\u001b[0;34m\u001b[0m\u001b[0m\n\u001b[0m\u001b[1;32m   1275\u001b[0m \u001b[0;34m\u001b[0m\u001b[0m\n\u001b[1;32m   1276\u001b[0m     \u001b[0;32mdef\u001b[0m \u001b[0msentences_from_text\u001b[0m\u001b[0;34m(\u001b[0m\u001b[0mself\u001b[0m\u001b[0;34m,\u001b[0m \u001b[0mtext\u001b[0m\u001b[0;34m,\u001b[0m \u001b[0mrealign_boundaries\u001b[0m\u001b[0;34m=\u001b[0m\u001b[0mTrue\u001b[0m\u001b[0;34m)\u001b[0m\u001b[0;34m:\u001b[0m\u001b[0;34m\u001b[0m\u001b[0m\n",
      "\u001b[0;32m/Users/matthiaszech/anaconda/lib/python2.7/site-packages/nltk/tokenize/punkt.pyc\u001b[0m in \u001b[0;36m_realign_boundaries\u001b[0;34m(self, text, slices)\u001b[0m\n\u001b[1;32m   1312\u001b[0m         \"\"\"\n\u001b[1;32m   1313\u001b[0m         \u001b[0mrealign\u001b[0m \u001b[0;34m=\u001b[0m \u001b[0;36m0\u001b[0m\u001b[0;34m\u001b[0m\u001b[0m\n\u001b[0;32m-> 1314\u001b[0;31m         \u001b[0;32mfor\u001b[0m \u001b[0msl1\u001b[0m\u001b[0;34m,\u001b[0m \u001b[0msl2\u001b[0m \u001b[0;32min\u001b[0m \u001b[0m_pair_iter\u001b[0m\u001b[0;34m(\u001b[0m\u001b[0mslices\u001b[0m\u001b[0;34m)\u001b[0m\u001b[0;34m:\u001b[0m\u001b[0;34m\u001b[0m\u001b[0m\n\u001b[0m\u001b[1;32m   1315\u001b[0m             \u001b[0msl1\u001b[0m \u001b[0;34m=\u001b[0m \u001b[0mslice\u001b[0m\u001b[0;34m(\u001b[0m\u001b[0msl1\u001b[0m\u001b[0;34m.\u001b[0m\u001b[0mstart\u001b[0m \u001b[0;34m+\u001b[0m \u001b[0mrealign\u001b[0m\u001b[0;34m,\u001b[0m \u001b[0msl1\u001b[0m\u001b[0;34m.\u001b[0m\u001b[0mstop\u001b[0m\u001b[0;34m)\u001b[0m\u001b[0;34m\u001b[0m\u001b[0m\n\u001b[1;32m   1316\u001b[0m             \u001b[0;32mif\u001b[0m \u001b[0;32mnot\u001b[0m \u001b[0msl2\u001b[0m\u001b[0;34m:\u001b[0m\u001b[0;34m\u001b[0m\u001b[0m\n",
      "\u001b[0;32m/Users/matthiaszech/anaconda/lib/python2.7/site-packages/nltk/tokenize/punkt.pyc\u001b[0m in \u001b[0;36m_pair_iter\u001b[0;34m(it)\u001b[0m\n\u001b[1;32m    310\u001b[0m     \"\"\"\n\u001b[1;32m    311\u001b[0m     \u001b[0mit\u001b[0m \u001b[0;34m=\u001b[0m \u001b[0miter\u001b[0m\u001b[0;34m(\u001b[0m\u001b[0mit\u001b[0m\u001b[0;34m)\u001b[0m\u001b[0;34m\u001b[0m\u001b[0m\n\u001b[0;32m--> 312\u001b[0;31m     \u001b[0mprev\u001b[0m \u001b[0;34m=\u001b[0m \u001b[0mnext\u001b[0m\u001b[0;34m(\u001b[0m\u001b[0mit\u001b[0m\u001b[0;34m)\u001b[0m\u001b[0;34m\u001b[0m\u001b[0m\n\u001b[0m\u001b[1;32m    313\u001b[0m     \u001b[0;32mfor\u001b[0m \u001b[0mel\u001b[0m \u001b[0;32min\u001b[0m \u001b[0mit\u001b[0m\u001b[0;34m:\u001b[0m\u001b[0;34m\u001b[0m\u001b[0m\n\u001b[1;32m    314\u001b[0m         \u001b[0;32myield\u001b[0m \u001b[0;34m(\u001b[0m\u001b[0mprev\u001b[0m\u001b[0;34m,\u001b[0m \u001b[0mel\u001b[0m\u001b[0;34m)\u001b[0m\u001b[0;34m\u001b[0m\u001b[0m\n",
      "\u001b[0;32m/Users/matthiaszech/anaconda/lib/python2.7/site-packages/nltk/tokenize/punkt.pyc\u001b[0m in \u001b[0;36m_slices_from_text\u001b[0;34m(self, text)\u001b[0m\n\u001b[1;32m   1287\u001b[0m         \u001b[0;32mfor\u001b[0m \u001b[0mmatch\u001b[0m \u001b[0;32min\u001b[0m \u001b[0mself\u001b[0m\u001b[0;34m.\u001b[0m\u001b[0m_lang_vars\u001b[0m\u001b[0;34m.\u001b[0m\u001b[0mperiod_context_re\u001b[0m\u001b[0;34m(\u001b[0m\u001b[0;34m)\u001b[0m\u001b[0;34m.\u001b[0m\u001b[0mfinditer\u001b[0m\u001b[0;34m(\u001b[0m\u001b[0mtext\u001b[0m\u001b[0;34m)\u001b[0m\u001b[0;34m:\u001b[0m\u001b[0;34m\u001b[0m\u001b[0m\n\u001b[1;32m   1288\u001b[0m             \u001b[0mcontext\u001b[0m \u001b[0;34m=\u001b[0m \u001b[0mmatch\u001b[0m\u001b[0;34m.\u001b[0m\u001b[0mgroup\u001b[0m\u001b[0;34m(\u001b[0m\u001b[0;34m)\u001b[0m \u001b[0;34m+\u001b[0m \u001b[0mmatch\u001b[0m\u001b[0;34m.\u001b[0m\u001b[0mgroup\u001b[0m\u001b[0;34m(\u001b[0m\u001b[0;34m'after_tok'\u001b[0m\u001b[0;34m)\u001b[0m\u001b[0;34m\u001b[0m\u001b[0m\n\u001b[0;32m-> 1289\u001b[0;31m             \u001b[0;32mif\u001b[0m \u001b[0mself\u001b[0m\u001b[0;34m.\u001b[0m\u001b[0mtext_contains_sentbreak\u001b[0m\u001b[0;34m(\u001b[0m\u001b[0mcontext\u001b[0m\u001b[0;34m)\u001b[0m\u001b[0;34m:\u001b[0m\u001b[0;34m\u001b[0m\u001b[0m\n\u001b[0m\u001b[1;32m   1290\u001b[0m                 \u001b[0;32myield\u001b[0m \u001b[0mslice\u001b[0m\u001b[0;34m(\u001b[0m\u001b[0mlast_break\u001b[0m\u001b[0;34m,\u001b[0m \u001b[0mmatch\u001b[0m\u001b[0;34m.\u001b[0m\u001b[0mend\u001b[0m\u001b[0;34m(\u001b[0m\u001b[0;34m)\u001b[0m\u001b[0;34m)\u001b[0m\u001b[0;34m\u001b[0m\u001b[0m\n\u001b[1;32m   1291\u001b[0m                 \u001b[0;32mif\u001b[0m \u001b[0mmatch\u001b[0m\u001b[0;34m.\u001b[0m\u001b[0mgroup\u001b[0m\u001b[0;34m(\u001b[0m\u001b[0;34m'next_tok'\u001b[0m\u001b[0;34m)\u001b[0m\u001b[0;34m:\u001b[0m\u001b[0;34m\u001b[0m\u001b[0m\n",
      "\u001b[0;32m/Users/matthiaszech/anaconda/lib/python2.7/site-packages/nltk/tokenize/punkt.pyc\u001b[0m in \u001b[0;36mtext_contains_sentbreak\u001b[0;34m(self, text)\u001b[0m\n\u001b[1;32m   1333\u001b[0m         \"\"\"\n\u001b[1;32m   1334\u001b[0m         \u001b[0mfound\u001b[0m \u001b[0;34m=\u001b[0m \u001b[0mFalse\u001b[0m \u001b[0;31m# used to ignore last token\u001b[0m\u001b[0;34m\u001b[0m\u001b[0m\n\u001b[0;32m-> 1335\u001b[0;31m         \u001b[0;32mfor\u001b[0m \u001b[0mt\u001b[0m \u001b[0;32min\u001b[0m \u001b[0mself\u001b[0m\u001b[0;34m.\u001b[0m\u001b[0m_annotate_tokens\u001b[0m\u001b[0;34m(\u001b[0m\u001b[0mself\u001b[0m\u001b[0;34m.\u001b[0m\u001b[0m_tokenize_words\u001b[0m\u001b[0;34m(\u001b[0m\u001b[0mtext\u001b[0m\u001b[0;34m)\u001b[0m\u001b[0;34m)\u001b[0m\u001b[0;34m:\u001b[0m\u001b[0;34m\u001b[0m\u001b[0m\n\u001b[0m\u001b[1;32m   1336\u001b[0m             \u001b[0;32mif\u001b[0m \u001b[0mfound\u001b[0m\u001b[0;34m:\u001b[0m\u001b[0;34m\u001b[0m\u001b[0m\n\u001b[1;32m   1337\u001b[0m                 \u001b[0;32mreturn\u001b[0m \u001b[0mTrue\u001b[0m\u001b[0;34m\u001b[0m\u001b[0m\n",
      "\u001b[0;32m/Users/matthiaszech/anaconda/lib/python2.7/site-packages/nltk/tokenize/punkt.pyc\u001b[0m in \u001b[0;36m_annotate_second_pass\u001b[0;34m(self, tokens)\u001b[0m\n\u001b[1;32m   1468\u001b[0m         \u001b[0mheuristic\u001b[0m \u001b[0;34m(\u001b[0m\u001b[0;36m4.1\u001b[0m\u001b[0;36m.2\u001b[0m\u001b[0;34m)\u001b[0m \u001b[0;32mand\u001b[0m \u001b[0mfrequent\u001b[0m \u001b[0msentence\u001b[0m \u001b[0mstarter\u001b[0m \u001b[0mheuristic\u001b[0m \u001b[0;34m(\u001b[0m\u001b[0;36m4.1\u001b[0m\u001b[0;36m.3\u001b[0m\u001b[0;34m)\u001b[0m\u001b[0;34m.\u001b[0m\u001b[0;34m\u001b[0m\u001b[0m\n\u001b[1;32m   1469\u001b[0m         \"\"\"\n\u001b[0;32m-> 1470\u001b[0;31m         \u001b[0;32mfor\u001b[0m \u001b[0mt1\u001b[0m\u001b[0;34m,\u001b[0m \u001b[0mt2\u001b[0m \u001b[0;32min\u001b[0m \u001b[0m_pair_iter\u001b[0m\u001b[0;34m(\u001b[0m\u001b[0mtokens\u001b[0m\u001b[0;34m)\u001b[0m\u001b[0;34m:\u001b[0m\u001b[0;34m\u001b[0m\u001b[0m\n\u001b[0m\u001b[1;32m   1471\u001b[0m             \u001b[0mself\u001b[0m\u001b[0;34m.\u001b[0m\u001b[0m_second_pass_annotation\u001b[0m\u001b[0;34m(\u001b[0m\u001b[0mt1\u001b[0m\u001b[0;34m,\u001b[0m \u001b[0mt2\u001b[0m\u001b[0;34m)\u001b[0m\u001b[0;34m\u001b[0m\u001b[0m\n\u001b[1;32m   1472\u001b[0m             \u001b[0;32myield\u001b[0m \u001b[0mt1\u001b[0m\u001b[0;34m\u001b[0m\u001b[0m\n",
      "\u001b[0;32m/Users/matthiaszech/anaconda/lib/python2.7/site-packages/nltk/tokenize/punkt.pyc\u001b[0m in \u001b[0;36m_pair_iter\u001b[0;34m(it)\u001b[0m\n\u001b[1;32m    310\u001b[0m     \"\"\"\n\u001b[1;32m    311\u001b[0m     \u001b[0mit\u001b[0m \u001b[0;34m=\u001b[0m \u001b[0miter\u001b[0m\u001b[0;34m(\u001b[0m\u001b[0mit\u001b[0m\u001b[0;34m)\u001b[0m\u001b[0;34m\u001b[0m\u001b[0m\n\u001b[0;32m--> 312\u001b[0;31m     \u001b[0mprev\u001b[0m \u001b[0;34m=\u001b[0m \u001b[0mnext\u001b[0m\u001b[0;34m(\u001b[0m\u001b[0mit\u001b[0m\u001b[0;34m)\u001b[0m\u001b[0;34m\u001b[0m\u001b[0m\n\u001b[0m\u001b[1;32m    313\u001b[0m     \u001b[0;32mfor\u001b[0m \u001b[0mel\u001b[0m \u001b[0;32min\u001b[0m \u001b[0mit\u001b[0m\u001b[0;34m:\u001b[0m\u001b[0;34m\u001b[0m\u001b[0m\n\u001b[1;32m    314\u001b[0m         \u001b[0;32myield\u001b[0m \u001b[0;34m(\u001b[0m\u001b[0mprev\u001b[0m\u001b[0;34m,\u001b[0m \u001b[0mel\u001b[0m\u001b[0;34m)\u001b[0m\u001b[0;34m\u001b[0m\u001b[0m\n",
      "\u001b[0;32m/Users/matthiaszech/anaconda/lib/python2.7/site-packages/nltk/tokenize/punkt.pyc\u001b[0m in \u001b[0;36m_annotate_first_pass\u001b[0;34m(self, tokens)\u001b[0m\n\u001b[1;32m    577\u001b[0m           \u001b[0;34m-\u001b[0m \u001b[0mellipsis_toks\u001b[0m\u001b[0;34m:\u001b[0m \u001b[0mThe\u001b[0m \u001b[0mindices\u001b[0m \u001b[0mof\u001b[0m \u001b[0mall\u001b[0m \u001b[0mellipsis\u001b[0m \u001b[0mmarks\u001b[0m\u001b[0;34m.\u001b[0m\u001b[0;34m\u001b[0m\u001b[0m\n\u001b[1;32m    578\u001b[0m         \"\"\"\n\u001b[0;32m--> 579\u001b[0;31m         \u001b[0;32mfor\u001b[0m \u001b[0maug_tok\u001b[0m \u001b[0;32min\u001b[0m \u001b[0mtokens\u001b[0m\u001b[0;34m:\u001b[0m\u001b[0;34m\u001b[0m\u001b[0m\n\u001b[0m\u001b[1;32m    580\u001b[0m             \u001b[0mself\u001b[0m\u001b[0;34m.\u001b[0m\u001b[0m_first_pass_annotation\u001b[0m\u001b[0;34m(\u001b[0m\u001b[0maug_tok\u001b[0m\u001b[0;34m)\u001b[0m\u001b[0;34m\u001b[0m\u001b[0m\n\u001b[1;32m    581\u001b[0m             \u001b[0;32myield\u001b[0m \u001b[0maug_tok\u001b[0m\u001b[0;34m\u001b[0m\u001b[0m\n",
      "\u001b[0;32m/Users/matthiaszech/anaconda/lib/python2.7/site-packages/nltk/tokenize/punkt.pyc\u001b[0m in \u001b[0;36m_tokenize_words\u001b[0;34m(self, plaintext)\u001b[0m\n\u001b[1;32m    542\u001b[0m         \"\"\"\n\u001b[1;32m    543\u001b[0m         \u001b[0mparastart\u001b[0m \u001b[0;34m=\u001b[0m \u001b[0mFalse\u001b[0m\u001b[0;34m\u001b[0m\u001b[0m\n\u001b[0;32m--> 544\u001b[0;31m         \u001b[0;32mfor\u001b[0m \u001b[0mline\u001b[0m \u001b[0;32min\u001b[0m \u001b[0mplaintext\u001b[0m\u001b[0;34m.\u001b[0m\u001b[0msplit\u001b[0m\u001b[0;34m(\u001b[0m\u001b[0;34m'\\n'\u001b[0m\u001b[0;34m)\u001b[0m\u001b[0;34m:\u001b[0m\u001b[0;34m\u001b[0m\u001b[0m\n\u001b[0m\u001b[1;32m    545\u001b[0m             \u001b[0;32mif\u001b[0m \u001b[0mline\u001b[0m\u001b[0;34m.\u001b[0m\u001b[0mstrip\u001b[0m\u001b[0;34m(\u001b[0m\u001b[0;34m)\u001b[0m\u001b[0;34m:\u001b[0m\u001b[0;34m\u001b[0m\u001b[0m\n\u001b[1;32m    546\u001b[0m                 \u001b[0mline_toks\u001b[0m \u001b[0;34m=\u001b[0m \u001b[0miter\u001b[0m\u001b[0;34m(\u001b[0m\u001b[0mself\u001b[0m\u001b[0;34m.\u001b[0m\u001b[0m_lang_vars\u001b[0m\u001b[0;34m.\u001b[0m\u001b[0mword_tokenize\u001b[0m\u001b[0;34m(\u001b[0m\u001b[0mline\u001b[0m\u001b[0;34m)\u001b[0m\u001b[0;34m)\u001b[0m\u001b[0;34m\u001b[0m\u001b[0m\n",
      "\u001b[0;31mUnicodeDecodeError\u001b[0m: 'ascii' codec can't decode byte 0xc3 in position 10: ordinal not in range(128)"
     ]
    }
   ],
   "source": [
    "import nltk\n",
    "tokens = nltk.word_tokenize(total[4].encode('utf-8'))"
   ]
  },
  {
   "cell_type": "code",
   "execution_count": 67,
   "metadata": {},
   "outputs": [
    {
     "data": {
      "text/plain": [
       "u\"Professionnels | SNCF\\nAller au menu principalAller au menu secondaireAller au contenuAller au pied de page\\nImprimer la pagePartager la page\\nVoyageurs\\nEntreprises & collectivit\\xe9s\\nGroupe SNCF\\nfrFran\\xe7aisFr\\nEnglishEn\\nDeutschDe\\nBillets & Info trajetsR\\xe9servationHoraires & Info trafic en temps r\\xe9elInfos gares & Points de venteServices voyageursTous voyageursProfessionnelsAccessibilit\\xe9 handicapGroupesGarantie VoyageSe d\\xe9placerEn r\\xe9gionEn FranceEn EuropeDepuis & vers la gareTarifs & CartesBons plans du momentCartes & Tarifs r\\xe9duitsOffres tarifairesProgrammes de fid\\xe9lit\\xe9Relation clientQuestions & R\\xe9ponsesEspace communaut\\xe9sNos engagements & SAVContacts\\nVoyageurs / Services voyageurs / Professionnels\\xa0\\xa0Imprimer la pagePartager la page\\nProfessionnels\\nD\\xe9couvrez l\\u2019offre Pro\\nVoyageurs Pros et Entreprises D\\xe9couvrez l\\u2019ensemble de l\\u2019offre Pro\\nProfiter des services Pro\\nBillets Pro 2de & 1re Les billets \\xe0 destination des professionnels\\nAbonnement Fr\\xe9quence 30 Profitez de tous les avantages du tarif Pro avec 30% de r\\xe9duction garantis\\nAbonnement Fr\\xe9quence 50% Profitez de tous les avantages du tarif Pro avec 50% de r\\xe9duction garantis\\nAvantages fid\\xe9lit\\xe9 pro Voyageur professionnel, d\\xe9couvrez tous nos avantages fid\\xe9lit\\xe9\\nGagner du temps\\nGuichets & bornes Gagnez du temps gr\\xe2ce aux guichets et bornes Pro Express\\nAppli & site mobile TGV Pro G\\xe9rez votre voyage professionnel depuis votre mobile\\nTransport & stationnement Facilitez votre voyage professionnel au d\\xe9part comme \\xe0 l'arriv\\xe9e\\nVoyager en toute tranquilit\\xe9\\nSalons Grand Voyageur D\\xe9couvrez un espace en gare alliant confort et services\\nEspace Pro Premi\\xe8re Voyagez dans un espace offrant services et attentions d\\xe9di\\xe9s \\xe0 bord\\nServices Bout en Bout\\nServices Bout en Bout Vous accompagner tout au long de votre voyage professionnel\\nFermer la popin\\nMot de passe oubli\\xe9 ?\\nIndiquez l'adresse \\xe9lectronique utilis\\xe9e lors de la cr\\xe9ation de votre compte. Un courriel vous sera envoy\\xe9 pour d\\xe9finir votre mot de passe.\\nAdresse \\xe9lectronique :\\nAcc\\xe8s rapide :\\nEmploi\\nNewsroom\\nPoints de vente\\nVoyageursCartes de r\\xe9duction SNCFSe d\\xe9placer depuis et vers la gareServices apr\\xe8s-venteQuestions & R\\xe9ponsesConditions g\\xe9n\\xe9rales de transportEntreprises& collectivit\\xe9sOffres aux entreprisesOffres aux collectivit\\xe9sEntreprises ferroviairesFournisseursGroupe SNCFNos m\\xe9tiersUn groupe, 3 Epic, 6 m\\xe9tiersPr\\xe9sence SNCF dans le mondeTransparenceFondation SNCF\\nMentions l\\xe9gales\\nCorrespondant informatique & libert\\xe9s\\nRetour au site Mobile\\nEn poursuivant votre navigation sur ce site, vous acceptez l'utilisation de cookies, que nous utilisons pour comprendre ce que vous souhaitez ici et pour vous proposer des services adapt\\xe9s \\xe0 vos centres d'int\\xe9r\\xeat.\\nEN SAVOIR PLUS\""
      ]
     },
     "execution_count": 67,
     "metadata": {},
     "output_type": "execute_result"
    }
   ],
   "source": [
    "get_text(\"http://www.sncf.com/fr/sub-home/50639\")"
   ]
  },
  {
   "cell_type": "code",
   "execution_count": 53,
   "metadata": {},
   "outputs": [
    {
     "name": "stdout",
     "output_type": "stream",
     "text": [
      "None\n"
     ]
    }
   ],
   "source": [
    "print(total[2])"
   ]
  },
  {
   "cell_type": "code",
   "execution_count": null,
   "metadata": {
    "collapsed": true
   },
   "outputs": [],
   "source": []
  }
 ],
 "metadata": {
  "kernelspec": {
   "display_name": "Python 2",
   "language": "python",
   "name": "python2"
  },
  "language_info": {
   "codemirror_mode": {
    "name": "ipython",
    "version": 2
   },
   "file_extension": ".py",
   "mimetype": "text/x-python",
   "name": "python",
   "nbconvert_exporter": "python",
   "pygments_lexer": "ipython2",
   "version": "2.7.13"
  }
 },
 "nbformat": 4,
 "nbformat_minor": 2
}
